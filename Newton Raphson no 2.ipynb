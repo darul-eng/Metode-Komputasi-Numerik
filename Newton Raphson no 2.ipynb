{
 "cells": [
  {
   "cell_type": "code",
   "execution_count": 12,
   "metadata": {},
   "outputs": [
    {
     "name": "stdout",
     "output_type": "stream",
     "text": [
      "iterasi ke- 0\n",
      "xi =  0.7\n",
      "0.7141749667496647\n",
      "Error :  0.02\n"
     ]
    }
   ],
   "source": [
    "import math\n",
    "es = 0.02\n",
    "ea = 0\n",
    "x0 = 0.7\n",
    "xi = 0\n",
    "itr = 0\n",
    "data = {}\n",
    "data['iter'] = []\n",
    "data['xi'] = []\n",
    "data['xi+1'] = []\n",
    "data['ea'] = []\n",
    "data[\"f(x)\"] = []\n",
    "data[\"df(x)\"] = []\n",
    "data['ea'].append(ea)\n",
    "\n",
    "\n",
    "def f(x):\n",
    "    return 5-5*x - math.exp(0.5*x)\n",
    "\n",
    "def df(x):\n",
    "    return -0.5*math.exp(0.5*x)-5\n",
    "\n",
    "while True:\n",
    "    xi = x0 - (f(x0)/df(x0))\n",
    "    print(\"iterasi ke-\",itr)\n",
    "    print(\"xi = \",round(x0,4))\n",
    "    ea = abs(xi - x0)/xi\n",
    "    data['iter'].append(itr)\n",
    "    data['xi'].append(x0)\n",
    "    data['xi+1'].append(xi)\n",
    "    data['f(x)'].append(f(x0))\n",
    "    data['df(x)'].append(df(x0))\n",
    "    x0 = xi\n",
    "    itr += 1\n",
    "    print(x0)\n",
    "    print(\"Error : \",round(ea, 2))\n",
    "\n",
    "    if ea < es:\n",
    "        break\n",
    "    if itr == 0:\n",
    "        ea = 0\n",
    "    data['ea'].append(ea)"
   ]
  },
  {
   "cell_type": "code",
   "execution_count": 13,
   "metadata": {},
   "outputs": [
    {
     "name": "stdout",
     "output_type": "stream",
     "text": [
      "   iter   xi      f(x)     df(x)      xi+1  ea\n",
      "0     0  0.7  0.080932 -5.709534  0.714175   0\n",
      "\n",
      "\n",
      "Hasil    =  0.7142\n",
      "Nilai ea =  0.0198\n"
     ]
    }
   ],
   "source": [
    "import pandas as pd\n",
    "\n",
    "df = pd.DataFrame(data)\n",
    "\n",
    "print(df[['iter','xi','f(x)','df(x)','xi+1','ea']])\n",
    "\n",
    "print(\"\\n\")\n",
    "print(\"Hasil    = \",round(x0, 4))\n",
    "print(\"Nilai ea = \",round(ea, 4))"
   ]
  }
 ],
 "metadata": {
  "kernelspec": {
   "display_name": "Python 3",
   "language": "python",
   "name": "python3"
  },
  "language_info": {
   "codemirror_mode": {
    "name": "ipython",
    "version": 3
   },
   "file_extension": ".py",
   "mimetype": "text/x-python",
   "name": "python",
   "nbconvert_exporter": "python",
   "pygments_lexer": "ipython3",
   "version": "3.7.4"
  }
 },
 "nbformat": 4,
 "nbformat_minor": 2
}
