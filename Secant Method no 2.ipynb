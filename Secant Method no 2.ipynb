{
 "cells": [
  {
   "cell_type": "code",
   "execution_count": 1,
   "metadata": {},
   "outputs": [
    {
     "name": "stdout",
     "output_type": "stream",
     "text": [
      "Iterasi ke- 0\n",
      "x0 =  0\n",
      "xi =  2\n",
      "xi+1 =  0.6827\n",
      "ea =  1.0\n",
      "\n",
      "Iterasi ke- 1\n",
      "x0 =  2\n",
      "xi =  0.6827\n",
      "xi+1 =  0.7127\n",
      "ea =  1.9296\n",
      "\n",
      "Iterasi ke- 2\n",
      "x0 =  0.6827\n",
      "xi =  0.7127\n",
      "xi+1 =  0.7142\n",
      "ea =  0.0421\n",
      "\n",
      "Iterasi ke- 3\n",
      "x0 =  0.7127\n",
      "xi =  0.7142\n",
      "xi+1 =  0.7142\n",
      "ea =  0.0021\n",
      "\n"
     ]
    }
   ],
   "source": [
    "import math\n",
    "\n",
    "es = 0.02\n",
    "ea = 0\n",
    "x0 = 0\n",
    "xi = 2\n",
    "xii = 0\n",
    "itr = 0\n",
    "data={}\n",
    "data['iter'] = []\n",
    "data['x0'] = []\n",
    "data['xi'] = []\n",
    "data['f(x0)'] = []\n",
    "data['f(xi)'] = []\n",
    "data['hasil'] = []\n",
    "data['ea'] = []\n",
    "data['ea'].append(ea)\n",
    "\n",
    "def f(x):\n",
    "    return 5-5*x - math.exp(0.5*x)\n",
    "\n",
    "while True:\n",
    "    print (\"Iterasi ke-\", itr)\n",
    "    print (\"x0 = \", round(x0, 4))\n",
    "    xii = xi-(f(xi)*(x0-xi)/(f(x0)-f(xi)))\n",
    "    ea = abs(xi-x0)/xi\n",
    "    \n",
    "    data['iter'].append(itr)\n",
    "    data['x0'].append(x0)\n",
    "    data['xi'].append(xi)\n",
    "    data['f(x0)'].append(f(x0))\n",
    "    data['f(xi)'].append(f(xi))\n",
    "    data['hasil'].append(xii)\n",
    "\n",
    "    x0 = xi\n",
    "    xi = xii\n",
    "    print(\"xi = \",round(x0, 4))\n",
    "    itr +=1\n",
    "    print(\"xi+1 = \",round(xi, 4))\n",
    "    print(\"ea = \",round(ea,4))\n",
    "    print()\n",
    "    \n",
    "    if ea < es:\n",
    "        break\n",
    "    if itr == 0:\n",
    "        ea = 0\n",
    "    data['ea'].append(ea)"
   ]
  },
  {
   "cell_type": "code",
   "execution_count": 3,
   "metadata": {},
   "outputs": [
    {
     "name": "stdout",
     "output_type": "stream",
     "text": [
      "   iter        x0        xi     hasil     f(x0)     f(xi)        ea\n",
      "0     0  0.000000  2.000000  0.682694  4.000000 -7.718282  0.000000\n",
      "1     1  2.000000  0.682694  0.712664 -7.718282  0.179689  1.000000\n",
      "2     2  0.682694  0.712664  0.714170  0.179689  0.008596  1.929570\n",
      "3     3  0.712664  0.714170  0.714169  0.008596 -0.000008  0.042054\n",
      "\n",
      "\n",
      "Hasil    =  0.7142\n",
      "Nilai ea =  0.0021\n"
     ]
    }
   ],
   "source": [
    "import pandas as pd\n",
    "\n",
    "df = pd.DataFrame(data)\n",
    "\n",
    "print(df[['iter','x0','xi','hasil','f(x0)','f(xi)','ea']])\n",
    "\n",
    "print(\"\\n\")\n",
    "print(\"Hasil    = \",round(x0, 4))\n",
    "print(\"Nilai ea = \",round(ea,4))"
   ]
  },
  {
   "cell_type": "code",
   "execution_count": null,
   "metadata": {},
   "outputs": [],
   "source": []
  }
 ],
 "metadata": {
  "kernelspec": {
   "display_name": "Python 3",
   "language": "python",
   "name": "python3"
  },
  "language_info": {
   "codemirror_mode": {
    "name": "ipython",
    "version": 3
   },
   "file_extension": ".py",
   "mimetype": "text/x-python",
   "name": "python",
   "nbconvert_exporter": "python",
   "pygments_lexer": "ipython3",
   "version": "3.7.4"
  }
 },
 "nbformat": 4,
 "nbformat_minor": 2
}
