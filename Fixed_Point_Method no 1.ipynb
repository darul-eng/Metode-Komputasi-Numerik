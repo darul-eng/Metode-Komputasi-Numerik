{
  "nbformat": 4,
  "nbformat_minor": 0,
  "metadata": {
    "colab": {
      "name": "Fixed-Point Method.ipynb",
      "provenance": [],
      "collapsed_sections": []
    },
    "kernelspec": {
      "name": "python3",
      "display_name": "Python 3"
    }
  },
  "cells": [
    {
      "cell_type": "code",
      "metadata": {
        "id": "U3wlvrUFgJAu",
        "colab_type": "code",
        "outputId": "1a221024-7440-466f-d4a0-75ca048e641c",
        "colab": {
          "base_uri": "https://localhost:8080/",
          "height": 357
        }
      },
      "source": [
        "ea = 0\n",
        "es = 0.01\n",
        "x0 = 3\n",
        "xi = 0\n",
        "itr = 0\n",
        "data = {}\n",
        "data['iter'] = []\n",
        "data['xi'] = []\n",
        "data['xi+1'] = []\n",
        "data['ea'] = []\n",
        "data['ea'].append(ea)\n",
        "\n",
        "def f(x):\n",
        "  return (-2*x**3+11.7*x**2+5)/17.7\n",
        "\n",
        "while True:\n",
        "  xi = f(x0)\n",
        "  print(\"iterasi ke-\",itr)\n",
        "  print(\"xi = \", round(x0,4))\n",
        "  ea = abs(x0-xi)/x0\n",
        "  data['iter'].append(itr)\n",
        "  data['xi'].append(x0)\n",
        "  data['xi+1'].append(xi)\n",
        "  x0 = xi\n",
        "  itr += 1\n",
        "  print(round(x0, 4))\n",
        "  print()\n",
        "  if ea <= es:\n",
        "    break\n",
        "  if itr==0:\n",
        "    ea=0\n",
        "  data['ea'].append(ea)"
      ],
      "execution_count": 0,
      "outputs": [
        {
          "output_type": "stream",
          "text": [
            "iterasi ke- 0\n",
            "xi =  3\n",
            "3.1808\n",
            "\n",
            "iterasi ke- 1\n",
            "xi =  3.1808\n",
            "3.334\n",
            "\n",
            "iterasi ke- 2\n",
            "xi =  3.334\n",
            "3.4425\n",
            "\n",
            "iterasi ke- 3\n",
            "xi =  3.4425\n",
            "3.5063\n",
            "\n",
            "iterasi ke- 4\n",
            "xi =  3.5063\n",
            "3.5383\n",
            "\n"
          ],
          "name": "stdout"
        }
      ]
    },
    {
      "cell_type": "code",
      "metadata": {
        "id": "sItE31tFqa_0",
        "colab_type": "code",
        "outputId": "8c8bfcfb-5e04-4572-98fb-770380984de2",
        "colab": {
          "base_uri": "https://localhost:8080/",
          "height": 187
        }
      },
      "source": [
        "import pandas as pd\n",
        "\n",
        "df = pd.DataFrame(data)\n",
        "\n",
        "print(df[['iter','xi','xi+1','ea']])\n",
        "\n",
        "print(\"\\n\")\n",
        "print(\"Hasil    = \",round(x0, 4))\n",
        "print(\"Nilai ea = \",round(ea, 4))"
      ],
      "execution_count": 0,
      "outputs": [
        {
          "output_type": "stream",
          "text": [
            "   iter        xi      xi+1        ea\n",
            "0     0  3.000000  3.180791  0.000000\n",
            "1     1  3.180791  3.333959  0.060264\n",
            "2     2  3.333959  3.442543  0.048154\n",
            "3     3  3.442543  3.506330  0.032569\n",
            "4     4  3.506330  3.538294  0.018529\n",
            "\n",
            "\n",
            "Hasil    =  3.5383\n",
            "Nilai ea =  0.0091\n"
          ],
          "name": "stdout"
        }
      ]
    }
  ]
}