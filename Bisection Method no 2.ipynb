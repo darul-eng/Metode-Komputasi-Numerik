{
 "cells": [
  {
   "cell_type": "code",
   "execution_count": 11,
   "metadata": {},
   "outputs": [],
   "source": [
    "from math import e\n",
    "def fungsi(x):\n",
    "    return 5-(5*x)-(e**(0.5*x))"
   ]
  },
  {
   "cell_type": "code",
   "execution_count": 12,
   "metadata": {},
   "outputs": [
    {
     "name": "stdout",
     "output_type": "stream",
     "text": [
      "Masukkan x low (x_l): 0\n",
      "Masukkan x upper (x_u): 2\n",
      "f(x_l) = 4.0\n",
      "f(x_u) = -7.718281828459045\n",
      "Tebakan Benar\n"
     ]
    }
   ],
   "source": [
    "while True:\n",
    "    while True :\n",
    "        #Masukkan Tebakan Pertama         \n",
    "        try:\n",
    "            x_l = float(input(\"Masukkan x low (x_l): \"))\n",
    "            break\n",
    "        except ValueError:\n",
    "            print(\"Silakan masukkan angka yang valid.\\n\")\n",
    "            \n",
    "    while True:\n",
    "        #Masukkan Tebakan Kedua         \n",
    "        try:\n",
    "            x_u = float(input(\"Masukkan x upper (x_u): \"))\n",
    "\n",
    "            # x_u akan diminta ulang jika x_u lebih kecil dari x_l\n",
    "            if x_u > x_l:\n",
    "                break\n",
    "            else:\n",
    "                print(\"Silakan masukkan angka yang lebih besar dari x_l\\n\")\n",
    "        except ValueError:\n",
    "            print(\"Silakan masukkan angka yang valid.\\n\")\n",
    "            \n",
    "    # Lihat hasil f(x_l) dan f(x_u)\n",
    "    print(\"f(x_l) = {}\".format(fungsi(x_l)))\n",
    "    print(\"f(x_u) = {}\".format(fungsi(x_u)))\n",
    "    \n",
    "    if fungsi(x_l)*fungsi(x_u)<0 : \n",
    "        print(\"Tebakan Benar\")\n",
    "        break\n",
    "    \n",
    "    else:\n",
    "        print(\"Tebakan salah\")"
   ]
  },
  {
   "cell_type": "code",
   "execution_count": 13,
   "metadata": {},
   "outputs": [],
   "source": [
    "i = 0\n",
    "es = 0.02\n",
    "ea = 0\n",
    "\n",
    "data={}\n",
    "data['Xl']=[]\n",
    "data['Xu']=[]\n",
    "data['Xr']=[]\n",
    "data['f(Xl)']=[]\n",
    "data['f(Xu)']=[]\n",
    "data['f(Xr)']=[]\n",
    "data['ea']=[]\n",
    "data['iter']=[]\n",
    "while True : \n",
    "    x_r = (x_l+x_u)/2\n",
    "    i+=1\n",
    "    data['iter'].append(i)\n",
    "    data['Xl'].append(x_l)\n",
    "    data['Xu'].append(x_u)\n",
    "    data['Xr'].append(x_r)\n",
    "    data['f(Xl)'].append(fungsi(x_l))\n",
    "    data['f(Xu)'].append(fungsi(x_u))\n",
    "    data['f(Xr)'].append(fungsi(x_r))\n",
    "    # Jika f(x_l) * f(x_r) < 0, maka\n",
    "    # x_u = x_r\n",
    "    if fungsi(x_l) * fungsi(x_r) < 0:\n",
    "        ea = abs(((x_r - x_u)/x_r)*100)\n",
    "        x_u = x_r\n",
    "    # Jika f(x_l) * f(x_r) > 0, maka\n",
    "    # x_l = x_r\n",
    "    elif fungsi(x_l) * fungsi(x_r) > 0:\n",
    "        ea = abs(((x_r - x_l)/x_r)*100)\n",
    "        x_l = x_r\n",
    "    # Jika f(x_l) * f(x_r) = 0, maka berhenti\n",
    "    elif fungsi(x_l) * fungsi(x_r) == 0:\n",
    "        ea = 0\n",
    "        data['ea'].append(ea)\n",
    "        break\n",
    "    \n",
    "    # Jika e_a lebih kecil dari e_s, maka berhenti\n",
    "    if ea <= es:\n",
    "        data['ea'].append(ea)\n",
    "        break\n",
    "    \n",
    "    # Jika iter = 1, maka e_a = 0\n",
    "    if i == 1:\n",
    "        ea = 0\n",
    "        \n",
    "    # Tambahkan e_a ke list\n",
    "    data['ea'].append(ea)"
   ]
  },
  {
   "cell_type": "code",
   "execution_count": 14,
   "metadata": {},
   "outputs": [
    {
     "name": "stdout",
     "output_type": "stream",
     "text": [
      "    iter        Xl        Xu        Xr     f(Xl)     f(Xu)     f(Xr)  \\\n",
      "0      1  0.000000  2.000000  1.000000  4.000000 -7.718282 -1.648721   \n",
      "1      2  0.000000  1.000000  0.500000  4.000000 -1.648721  1.215975   \n",
      "2      3  0.500000  1.000000  0.750000  1.215975 -1.648721 -0.204991   \n",
      "3      4  0.500000  0.750000  0.625000  1.215975 -0.204991  0.508162   \n",
      "4      5  0.625000  0.750000  0.687500  0.508162 -0.204991  0.152274   \n",
      "5      6  0.687500  0.750000  0.718750  0.152274 -0.204991 -0.026184   \n",
      "6      7  0.687500  0.718750  0.703125  0.152274 -0.026184  0.063088   \n",
      "7      8  0.703125  0.718750  0.710938  0.063088 -0.026184  0.018463   \n",
      "8      9  0.710938  0.718750  0.714844  0.018463 -0.026184 -0.003858   \n",
      "9     10  0.710938  0.714844  0.712891  0.018463 -0.003858  0.007303   \n",
      "10    11  0.712891  0.714844  0.713867  0.007303 -0.003858  0.001723   \n",
      "11    12  0.713867  0.714844  0.714355  0.001723 -0.003858 -0.001067   \n",
      "12    13  0.713867  0.714355  0.714111  0.001723 -0.001067  0.000328   \n",
      "13    14  0.714111  0.714355  0.714233  0.000328 -0.001067 -0.000370   \n",
      "\n",
      "            ea  \n",
      "0     0.000000  \n",
      "1   100.000000  \n",
      "2    33.333333  \n",
      "3    20.000000  \n",
      "4     9.090909  \n",
      "5     4.347826  \n",
      "6     2.222222  \n",
      "7     1.098901  \n",
      "8     0.546448  \n",
      "9     0.273973  \n",
      "10    0.136799  \n",
      "11    0.068353  \n",
      "12    0.034188  \n",
      "13    0.017091  \n",
      "\n",
      "\n",
      "\n",
      "Hasil =  0.7142333984375\n"
     ]
    }
   ],
   "source": [
    "import pandas as pd\n",
    "\n",
    "df = pd.DataFrame(data)\n",
    "print (df[['iter','Xl','Xu','Xr','f(Xl)','f(Xu)','f(Xr)','ea']])\n",
    "print(\"\\n\\n\")\n",
    "print(\"Hasil = \",x_r)"
   ]
  },
  {
   "cell_type": "code",
   "execution_count": null,
   "metadata": {},
   "outputs": [],
   "source": []
  }
 ],
 "metadata": {
  "kernelspec": {
   "display_name": "Python 3",
   "language": "python",
   "name": "python3"
  },
  "language_info": {
   "codemirror_mode": {
    "name": "ipython",
    "version": 3
   },
   "file_extension": ".py",
   "mimetype": "text/x-python",
   "name": "python",
   "nbconvert_exporter": "python",
   "pygments_lexer": "ipython3",
   "version": "3.7.3"
  }
 },
 "nbformat": 4,
 "nbformat_minor": 2
}
