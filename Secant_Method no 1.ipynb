{
  "nbformat": 4,
  "nbformat_minor": 0,
  "metadata": {
    "colab": {
      "name": "Secant Method.ipynb",
      "provenance": [],
      "collapsed_sections": []
    },
    "kernelspec": {
      "name": "python3",
      "display_name": "Python 3"
    }
  },
  "cells": [
    {
      "cell_type": "code",
      "metadata": {
        "id": "cZgBwPMt50zD",
        "colab_type": "code",
        "outputId": "6fadd43d-0a85-4eca-cf12-2f2ace02d661",
        "colab": {
          "base_uri": "https://localhost:8080/",
          "height": 527
        }
      },
      "source": [
        "es = 0.01\n",
        "ea = 0\n",
        "x0 = 3\n",
        "xi = 4\n",
        "xii = 0\n",
        "itr = 0\n",
        "data={}\n",
        "data['iter'] = []\n",
        "data['x0'] = []\n",
        "data['xi'] = []\n",
        "data['f(x0)'] = []\n",
        "data['f(xi)'] = []\n",
        "data['hasil'] = []\n",
        "data['ea'] = []\n",
        "data['ea'].append(ea)\n",
        "\n",
        "def f(x):\n",
        "  return 2*x**3-11.7*x**2+17.7*x-5\n",
        "\n",
        "while True:\n",
        "  print (\"Iterasi ke-\", itr)\n",
        "  print (\"x0 = \", round(x0, 4))\n",
        "  xii = xi-(f(xi)*(x0-xi)/(f(x0)-f(xi)))\n",
        "  ea = abs(xi-x0)/xi\n",
        "  \n",
        "  data['iter'].append(itr)\n",
        "  data['x0'].append(x0)\n",
        "  data['xi'].append(xi)\n",
        "  data['f(x0)'].append(f(x0))\n",
        "  data['f(xi)'].append(f(xi))\n",
        "  data['hasil'].append(xii)\n",
        "\n",
        "  x0 = xi\n",
        "  xi = xii\n",
        "  print(\"xi = \",round(x0, 4))\n",
        "  itr +=1\n",
        "  print(\"xi+1 = \",round(xi, 4))\n",
        "  print(\"ea = \",ea)\n",
        "  print()\n",
        "\n",
        "  if ea < es:\n",
        "    break\n",
        "  if itr == 0:\n",
        "    ea = 0\n",
        "  data['ea'].append(ea)\n"
      ],
      "execution_count": 0,
      "outputs": [
        {
          "output_type": "stream",
          "text": [
            "Iterasi ke- 0\n",
            "x0 =  3\n",
            "xi =  4\n",
            "xi+1 =  3.3265\n",
            "ea =  0.25\n",
            "\n",
            "Iterasi ke- 1\n",
            "x0 =  4\n",
            "xi =  3.3265\n",
            "xi+1 =  3.4813\n",
            "ea =  0.20245398773006137\n",
            "\n",
            "Iterasi ke- 2\n",
            "x0 =  3.3265\n",
            "xi =  3.4813\n",
            "xi+1 =  3.5863\n",
            "ea =  0.044449863624341765\n",
            "\n",
            "Iterasi ke- 3\n",
            "x0 =  3.4813\n",
            "xi =  3.5863\n",
            "xi+1 =  3.5613\n",
            "ea =  0.029279032988293666\n",
            "\n",
            "Iterasi ke- 4\n",
            "x0 =  3.5863\n",
            "xi =  3.5613\n",
            "xi+1 =  3.5631\n",
            "ea =  0.007001626847057186\n",
            "\n"
          ],
          "name": "stdout"
        }
      ]
    },
    {
      "cell_type": "code",
      "metadata": {
        "id": "Sx9DOge7Qmh6",
        "colab_type": "code",
        "outputId": "b366f76b-3cc6-431a-c36d-4bfb00298fc5",
        "colab": {
          "base_uri": "https://localhost:8080/",
          "height": 187
        }
      },
      "source": [
        "import pandas as pd\n",
        "\n",
        "df = pd.DataFrame(data)\n",
        "\n",
        "print(df[['iter','x0','xi','hasil','f(x0)','f(xi)','ea']])\n",
        "\n",
        "print(\"\\n\")\n",
        "print(\"Hasil    = \",round(x0, 4))\n",
        "print(\"Nilai ea = \",ea)"
      ],
      "execution_count": 0,
      "outputs": [
        {
          "output_type": "stream",
          "text": [
            "   iter        x0        xi     hasil     f(x0)     f(xi)        ea\n",
            "0     0  3.000000  4.000000  3.326531 -3.200000  6.600000  0.000000\n",
            "1     1  4.000000  3.326531  3.481273  6.600000 -1.968853  0.250000\n",
            "2     2  3.326531  3.481273  3.586275 -1.968853 -0.795915  0.202454\n",
            "3     3  3.481273  3.586275  3.561340 -0.795915  0.247869  0.044450\n",
            "4     4  3.586275  3.561340  3.563123  0.247869 -0.019082  0.029279\n",
            "\n",
            "\n",
            "Hasil    =  3.5613\n",
            "Nilai ea =  0.007001626847057186\n"
          ],
          "name": "stdout"
        }
      ]
    }
  ]
}