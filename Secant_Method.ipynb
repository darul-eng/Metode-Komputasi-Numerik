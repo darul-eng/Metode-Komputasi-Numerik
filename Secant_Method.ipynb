{
  "nbformat": 4,
  "nbformat_minor": 0,
  "metadata": {
    "colab": {
      "name": "Secant Method.ipynb",
      "provenance": [],
      "collapsed_sections": []
    },
    "kernelspec": {
      "name": "python3",
      "display_name": "Python 3"
    }
  },
  "cells": [
    {
      "cell_type": "code",
      "metadata": {
        "id": "cZgBwPMt50zD",
        "colab_type": "code",
        "colab": {
          "base_uri": "https://localhost:8080/",
          "height": 629
        },
        "outputId": "2ffe4c28-c95a-4aee-b38e-df0fd66b7f53"
      },
      "source": [
        "es = 0.001\n",
        "ea = 1\n",
        "x0 = 3\n",
        "xi = 4\n",
        "xii = 0\n",
        "iterasi = 0\n",
        "max_iterasi = 3\n",
        "\n",
        "def f(x):\n",
        "  return 2*x**3-11.7*x**2+17.7*x-5\n",
        "\n",
        "while ea > es:\n",
        "  print (\"Iterasi ke-\", iterasi)\n",
        "  print (\"x0 = \", round(x0, 4))\n",
        "  xii = xi-(f(xi)*(x0-xi)/(f(x0)-f(xi)))\n",
        "  ea = abs((xi-x0)/xi)\n",
        "  x0 = xi\n",
        "  xi = xii\n",
        "  print(\"xi = \",round(x0, 4))\n",
        "  iterasi +=1\n",
        "  print(\"xi+1 = \",round(xi, 4))\n",
        "  print(\"ea = \",ea)\n",
        "  print()\n"
      ],
      "execution_count": 6,
      "outputs": [
        {
          "output_type": "stream",
          "text": [
            "Iterasi ke- 0\n",
            "x0 =  3\n",
            "xi =  4\n",
            "xi+1 =  3.3265\n",
            "ea =  0.25\n",
            "\n",
            "Iterasi ke- 1\n",
            "x0 =  4\n",
            "xi =  3.3265\n",
            "xi+1 =  3.4813\n",
            "ea =  0.20245398773006137\n",
            "\n",
            "Iterasi ke- 2\n",
            "x0 =  3.3265\n",
            "xi =  3.4813\n",
            "xi+1 =  3.5863\n",
            "ea =  0.044449863624341765\n",
            "\n",
            "Iterasi ke- 3\n",
            "x0 =  3.4813\n",
            "xi =  3.5863\n",
            "xi+1 =  3.5613\n",
            "ea =  0.029279032988293666\n",
            "\n",
            "Iterasi ke- 4\n",
            "x0 =  3.5863\n",
            "xi =  3.5613\n",
            "xi+1 =  3.5631\n",
            "ea =  0.007001626847057186\n",
            "\n",
            "Iterasi ke- 5\n",
            "x0 =  3.5613\n",
            "xi =  3.5631\n",
            "xi+1 =  3.5632\n",
            "ea =  0.0005002358416860807\n",
            "\n"
          ],
          "name": "stdout"
        }
      ]
    }
  ]
}