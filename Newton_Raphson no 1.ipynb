{
  "nbformat": 4,
  "nbformat_minor": 0,
  "metadata": {
    "colab": {
      "name": "Newton Raphson.ipynb",
      "provenance": [],
      "collapsed_sections": []
    },
    "kernelspec": {
      "name": "python3",
      "display_name": "Python 3"
    }
  },
  "cells": [
    {
      "cell_type": "code",
      "metadata": {
        "id": "caFaeeHkzaJp",
        "colab_type": "code",
        "outputId": "2c90122b-8a01-4a55-daa4-d40e313badd7",
        "colab": {
          "base_uri": "https://localhost:8080/",
          "height": 272
        }
      },
      "source": [
        "es = 0.01\n",
        "ea = 0\n",
        "x0 = 3\n",
        "xi = 0\n",
        "itr = 0\n",
        "data = {}\n",
        "data['iter'] = []\n",
        "data['xi'] = []\n",
        "data['xi+1'] = []\n",
        "data['ea'] = []\n",
        "data[\"f(x)\"] = []\n",
        "data[\"df(x)\"] = []\n",
        "data['ea'].append(ea)\n",
        "\n",
        "def f(x):\n",
        "  return 2*x**3-11.7*x**2+17.7*x-5\n",
        "\n",
        "def df(x):\n",
        "  return 6*x**2-23.4*x+17.7\n",
        "\n",
        "while True:\n",
        "  xi = x0 - (f(x0)/df(x0))\n",
        "  print(\"iterasi ke-\",itr)\n",
        "  print(\"xi = \",round(x0,4))\n",
        "  ea = abs(xi-x0)/xi\n",
        "  data['iter'].append(itr)\n",
        "  data['xi'].append(x0)\n",
        "  data['xi+1'].append(xi)\n",
        "  data['f(x)'].append(f(x0))\n",
        "  data['df(x)'].append(df(x0))\n",
        "  x0 = xi\n",
        "  itr +=1\n",
        "  print(x0)\n",
        "\n",
        "  if ea < es:\n",
        "    break\n",
        "  if itr == 0:\n",
        "    ea = 0\n",
        "  data['ea'].append(ea)"
      ],
      "execution_count": 0,
      "outputs": [
        {
          "output_type": "stream",
          "text": [
            "iterasi ke- 0\n",
            "xi =  3\n",
            "5.13333333333332\n",
            "iterasi ke- 1\n",
            "xi =  5.1333\n",
            "4.26975005653324\n",
            "iterasi ke- 2\n",
            "xi =  4.2698\n",
            "3.7929344806432264\n",
            "iterasi ke- 3\n",
            "xi =  3.7929\n",
            "3.5998192883980815\n",
            "iterasi ke- 4\n",
            "xi =  3.5998\n",
            "3.56433803284734\n"
          ],
          "name": "stdout"
        }
      ]
    },
    {
      "cell_type": "code",
      "metadata": {
        "id": "MXuzOgXfNKDn",
        "colab_type": "code",
        "outputId": "a0b591db-810d-4075-be1d-cfb6418e3671",
        "colab": {
          "base_uri": "https://localhost:8080/",
          "height": 187
        }
      },
      "source": [
        "import pandas as pd\n",
        "\n",
        "df = pd.DataFrame(data)\n",
        "\n",
        "print(df[['iter','xi','f(x)','df(x)','xi+1','ea']])\n",
        "\n",
        "print(\"\\n\")\n",
        "print(\"Hasil    = \",round(x0, 4))\n",
        "print(\"Nilai ea = \",round(ea, 4))"
      ],
      "execution_count": 0,
      "outputs": [
        {
          "output_type": "stream",
          "text": [
            "   iter        xi       f(x)      df(x)      xi+1        ea\n",
            "0     0  3.000000  -3.200000   1.500000  5.133333  0.000000\n",
            "1     1  5.133333  48.090074  55.686667  4.269750  0.415584\n",
            "2     2  4.269750  12.956244  27.172442  3.792934  0.202256\n",
            "3     3  3.792934   2.947603  15.263445  3.599819  0.125712\n",
            "4     4  3.599819   0.397973  11.216422  3.564338  0.053646\n",
            "\n",
            "\n",
            "Hasil    =  3.5643\n",
            "Nilai ea =  0.01\n"
          ],
          "name": "stdout"
        }
      ]
    }
  ]
}