{
  "nbformat": 4,
  "nbformat_minor": 0,
  "metadata": {
    "colab": {
      "name": "Newton Raphson.ipynb",
      "provenance": [],
      "collapsed_sections": []
    },
    "kernelspec": {
      "name": "python3",
      "display_name": "Python 3"
    }
  },
  "cells": [
    {
      "cell_type": "code",
      "metadata": {
        "id": "caFaeeHkzaJp",
        "colab_type": "code",
        "colab": {
          "base_uri": "https://localhost:8080/",
          "height": 102
        },
        "outputId": "39327825-bff3-41d6-9c30-f6597568cbb8"
      },
      "source": [
        "es = 0.1\n",
        "ea = 1\n",
        "x0 = 3\n",
        "x1 = 0\n",
        "iterasi = 0\n",
        "maks_iterasi = 3\n",
        "\n",
        "def f(x):\n",
        "  return 2*x**3-11.7*x**2+17.7*x-5\n",
        "\n",
        "def df(x):\n",
        "  return 6*x**2-23.4*x+17.7\n",
        "\n",
        "while ea > es:\n",
        "  x1 = x0 - (f(x0)/df(x0))\n",
        "  ea = abs(x1-x0)\n",
        "  x0 = x1\n",
        "  print(x0)"
      ],
      "execution_count": 1,
      "outputs": [
        {
          "output_type": "stream",
          "text": [
            "5.13333333333332\n",
            "4.26975005653324\n",
            "3.7929344806432264\n",
            "3.5998192883980815\n",
            "3.56433803284734\n"
          ],
          "name": "stdout"
        }
      ]
    }
  ]
}